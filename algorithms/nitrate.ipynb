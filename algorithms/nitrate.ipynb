{
 "cells": [
  {
   "cell_type": "code",
   "execution_count": 5,
   "metadata": {
    "collapsed": false
   },
   "outputs": [],
   "source": [
    "from netCDF4 import Dataset"
   ]
  },
  {
   "cell_type": "code",
   "execution_count": 15,
   "metadata": {
    "collapsed": true
   },
   "outputs": [],
   "source": [
    "import xarray"
   ]
  },
  {
   "cell_type": "code",
   "execution_count": 16,
   "metadata": {
    "collapsed": true
   },
   "outputs": [],
   "source": [
    "a = xarray.open_dataset('/Users/eapsclimate/Desktop/repositories/marine-biology/A20021822002212.L3m_MO_SST_sst_9km.nc')"
   ]
  },
  {
   "cell_type": "code",
   "execution_count": null,
   "metadata": {
    "collapsed": true
   },
   "outputs": [],
   "source": [
    "a = a.to_dataframe()"
   ]
  },
  {
   "cell_type": "code",
   "execution_count": 6,
   "metadata": {
    "collapsed": false
   },
   "outputs": [],
   "source": [
    "sst = Dataset('/Users/eapsclimate/Desktop/repositories/marine-biology/A20021822002212.L3m_MO_SST_sst_9km.nc')"
   ]
  },
  {
   "cell_type": "code",
   "execution_count": 11,
   "metadata": {
    "collapsed": false
   },
   "outputs": [],
   "source": [
    "chl = Dataset('/Users/eapsclimate/Desktop/repositories/marine-biology/A20021822002212.L3m_MO_CHL_chlor_a_9km.nc')"
   ]
  },
  {
   "cell_type": "code",
   "execution_count": 14,
   "metadata": {
    "collapsed": false
   },
   "outputs": [
    {
     "data": {
      "text/plain": [
       "<type 'netCDF4._netCDF4.Dataset'>\n",
       "root group (NETCDF4 data model, file format HDF5):\n",
       "    product_name: A20021822002212.L3m_MO_SST_sst_9km.nc\n",
       "    instrument: MODIS\n",
       "    title: MODIS Level-3 Standard Mapped Image\n",
       "    project: Ocean Biology Processing Group (NASA/GSFC/OBPG)\n",
       "    platform: Aqua\n",
       "    temporal_range: 26-day\n",
       "    processing_version: 2014.0\n",
       "    date_created: 2015-04-14T11:42:23.000Z\n",
       "    history: smigen par=A20021822002212.L3m_MO_SST_sst_9km.nc.param\n",
       "    l2_flag_names: LAND,HISOLZEN\n",
       "    time_coverage_start: 2002-07-03T21:55:06.000Z\n",
       "    time_coverage_end: 2002-07-29T17:40:05.000Z\n",
       "    start_orbit_number: 885\n",
       "    end_orbit_number: 1261\n",
       "    map_projection: Equidistant Cylindrical\n",
       "    latitude_units: degrees_north\n",
       "    longitude_units: degrees_east\n",
       "    northernmost_latitude: 90.0\n",
       "    southernmost_latitude: -90.0\n",
       "    westernmost_longitude: -180.0\n",
       "    easternmost_longitude: 180.0\n",
       "    geospatial_lat_max: 90.0\n",
       "    geospatial_lat_min: -90.0\n",
       "    geospatial_lon_max: 180.0\n",
       "    geospatial_lon_min: -180.0\n",
       "    grid_mapping_name: latitude_longitude\n",
       "    latitude_step: 0.0833333\n",
       "    longitude_step: 0.0833333\n",
       "    sw_point_latitude: -89.9583\n",
       "    sw_point_longitude: -179.958\n",
       "    geospatial_lon_resolution: 9.2\n",
       "    geospatial_lat_resolution: 9.2\n",
       "    geospatial_lat_units: km\n",
       "    geospatial_lon_units: km\n",
       "    spatialResolution: 9.20 km\n",
       "    data_bins: 4731812\n",
       "    number_of_lines: 2160\n",
       "    number_of_columns: 4320\n",
       "    measure: Mean\n",
       "    data_minimum: -1.995\n",
       "    data_maximum: 48.71\n",
       "    suggested_image_scaling_minimum: -2.0\n",
       "    suggested_image_scaling_maximum: 45.0\n",
       "    suggested_image_scaling_type: LINEAR\n",
       "    suggested_image_scaling_applied: Yes\n",
       "    _lastModified: 2015-04-14T11:42:23.000Z\n",
       "    Conventions: CF-1.6\n",
       "    institution: NASA Goddard Space Flight Center, Ocean Ecology Laboratory, Ocean Biology Processing Group\n",
       "    standard_name_vocabulary: NetCDF Climate and Forecast (CF) Metadata Convention\n",
       "    Metadata_Conventions: Unidata Dataset Discovery v1.0\n",
       "    naming_authority: gov.nasa.gsfc.sci.oceandata\n",
       "    id: A20021822002212.L3b_MO_SST.nc/L3/A20021822002212.L3b_MO_SST.nc\n",
       "    license: http://science.nasa.gov/earth-science/earth-science-data/data-information-policy/\n",
       "    creator_name: NASA/GSFC/OBPG\n",
       "    publisher_name: NASA/GSFC/OBPG\n",
       "    creator_email: data@oceancolor.gsfc.nasa.gov\n",
       "    publisher_email: data@oceancolor.gsfc.nasa.gov\n",
       "    creator_url: http://oceandata.sci.gsfc.nasa.gov\n",
       "    publisher_url: http://oceandata.sci.gsfc.nasa.gov\n",
       "    processing_level: L3 Mapped\n",
       "    cdm_data_type: grid\n",
       "    identifier_product_doi_authority: http://dx.doi.org\n",
       "    identifier_product_doi: 10.5067/AQUA/MODIS_OC.2014.0\n",
       "    keywords: Oceans > Ocean Temperature > Sea Surface Temperature\n",
       "    keywords_vocabulary: NASA Global Change Master Directory (GCMD) Science Keywords\n",
       "    dimensions(sizes): lat(2160), lon(4320), rgb(3), eightbitcolor(256)\n",
       "    variables(dimensions): uint16 \u001b[4msst\u001b[0m(lat,lon), int8 \u001b[4mqual_sst\u001b[0m(lat,lon), float32 \u001b[4mlat\u001b[0m(lat), float32 \u001b[4mlon\u001b[0m(lon), uint8 \u001b[4mpalette\u001b[0m(rgb,eightbitcolor)\n",
       "    groups: processing_control"
      ]
     },
     "execution_count": 14,
     "metadata": {},
     "output_type": "execute_result"
    }
   ],
   "source": [
    "sst"
   ]
  },
  {
   "cell_type": "code",
   "execution_count": null,
   "metadata": {
    "collapsed": true
   },
   "outputs": [],
   "source": []
  }
 ],
 "metadata": {
  "kernelspec": {
   "display_name": "Python [Root]",
   "language": "python",
   "name": "Python [Root]"
  },
  "language_info": {
   "codemirror_mode": {
    "name": "ipython",
    "version": 2
   },
   "file_extension": ".py",
   "mimetype": "text/x-python",
   "name": "python",
   "nbconvert_exporter": "python",
   "pygments_lexer": "ipython2",
   "version": "2.7.12"
  }
 },
 "nbformat": 4,
 "nbformat_minor": 0
}
