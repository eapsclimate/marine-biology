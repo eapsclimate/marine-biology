{
 "cells": [
  {
   "cell_type": "code",
   "execution_count": 1,
   "metadata": {
    "collapsed": true
   },
   "outputs": [],
   "source": [
    "import matplotlib.pyplot as plt\n",
    "import numpy as np\n",
    "import xarray as xr"
   ]
  },
  {
   "cell_type": "code",
   "execution_count": 2,
   "metadata": {
    "collapsed": true
   },
   "outputs": [],
   "source": [
    "%matplotlib inline"
   ]
  },
  {
   "cell_type": "code",
   "execution_count": 3,
   "metadata": {
    "collapsed": false
   },
   "outputs": [],
   "source": [
    "data_sst = xr.open_dataset('/Users/eapsclimate/Desktop/repositories/marine-biology/data/A20021822002212.L3m_MO_SST_sst_9km.nc')\n",
    "data_chl = xr.open_dataset('/Users/eapsclimate/Desktop/repositories/marine-biology/data/A20021822002212.L3m_MO_CHL_chlor_a_9km.nc')"
   ]
  },
  {
   "cell_type": "code",
   "execution_count": 4,
   "metadata": {
    "collapsed": false
   },
   "outputs": [
    {
     "data": {
      "text/plain": [
       "<xarray.Dataset>\n",
       "Dimensions:        (eightbitcolor: 256, lat: 2160, lon: 4320, rgb: 3)\n",
       "Coordinates:\n",
       "  * lat            (lat) float64 89.96 89.88 89.79 89.71 89.62 89.54 89.46 ...\n",
       "  * lon            (lon) float64 -180.0 -179.9 -179.8 -179.7 -179.6 -179.5 ...\n",
       "  * eightbitcolor  (eightbitcolor) int64 0 1 2 3 4 5 6 7 8 9 10 11 12 13 14 ...\n",
       "  * rgb            (rgb) int64 0 1 2\n",
       "Data variables:\n",
       "    sst            (lat, lon) float64 0.2197 0.2197 0.2197 0.2197 0.2197 ...\n",
       "    qual_sst       (lat, lon) int8 0 0 0 0 0 0 0 0 0 0 0 0 0 0 0 0 0 0 0 0 0 ...\n",
       "    palette        (rgb, eightbitcolor) uint8 91 10 118 99 9 139 112 7 171 ...\n",
       "Attributes:\n",
       "    product_name: A20021822002212.L3m_MO_SST_sst_9km.nc\n",
       "    instrument: MODIS\n",
       "    title: MODIS Level-3 Standard Mapped Image\n",
       "    project: Ocean Biology Processing Group (NASA/GSFC/OBPG)\n",
       "    platform: Aqua\n",
       "    temporal_range: 26-day\n",
       "    processing_version: 2014.0\n",
       "    date_created: 2015-04-14T11:42:23.000Z\n",
       "    history: smigen par=A20021822002212.L3m_MO_SST_sst_9km.nc.param\n",
       "    l2_flag_names: LAND,HISOLZEN\n",
       "    time_coverage_start: 2002-07-03T21:55:06.000Z\n",
       "    time_coverage_end: 2002-07-29T17:40:05.000Z\n",
       "    start_orbit_number: 885\n",
       "    end_orbit_number: 1261\n",
       "    map_projection: Equidistant Cylindrical\n",
       "    latitude_units: degrees_north\n",
       "    longitude_units: degrees_east\n",
       "    northernmost_latitude: 90.0\n",
       "    southernmost_latitude: -90.0\n",
       "    westernmost_longitude: -180.0\n",
       "    easternmost_longitude: 180.0\n",
       "    geospatial_lat_max: 90.0\n",
       "    geospatial_lat_min: -90.0\n",
       "    geospatial_lon_max: 180.0\n",
       "    geospatial_lon_min: -180.0\n",
       "    grid_mapping_name: latitude_longitude\n",
       "    latitude_step: 0.0833333\n",
       "    longitude_step: 0.0833333\n",
       "    sw_point_latitude: -89.9583\n",
       "    sw_point_longitude: -179.958\n",
       "    geospatial_lon_resolution: 9.2\n",
       "    geospatial_lat_resolution: 9.2\n",
       "    geospatial_lat_units: km\n",
       "    geospatial_lon_units: km\n",
       "    spatialResolution: 9.20 km\n",
       "    data_bins: 4731812\n",
       "    number_of_lines: 2160\n",
       "    number_of_columns: 4320\n",
       "    measure: Mean\n",
       "    data_minimum: -1.995\n",
       "    data_maximum: 48.71\n",
       "    suggested_image_scaling_minimum: -2.0\n",
       "    suggested_image_scaling_maximum: 45.0\n",
       "    suggested_image_scaling_type: LINEAR\n",
       "    suggested_image_scaling_applied: Yes\n",
       "    _lastModified: 2015-04-14T11:42:23.000Z\n",
       "    Conventions: CF-1.6\n",
       "    institution: NASA Goddard Space Flight Center, Ocean Ecology Laboratory, Ocean Biology Processing Group\n",
       "    standard_name_vocabulary: NetCDF Climate and Forecast (CF) Metadata Convention\n",
       "    Metadata_Conventions: Unidata Dataset Discovery v1.0\n",
       "    naming_authority: gov.nasa.gsfc.sci.oceandata\n",
       "    id: A20021822002212.L3b_MO_SST.nc/L3/A20021822002212.L3b_MO_SST.nc\n",
       "    license: http://science.nasa.gov/earth-science/earth-science-data/data-information-policy/\n",
       "    creator_name: NASA/GSFC/OBPG\n",
       "    publisher_name: NASA/GSFC/OBPG\n",
       "    creator_email: data@oceancolor.gsfc.nasa.gov\n",
       "    publisher_email: data@oceancolor.gsfc.nasa.gov\n",
       "    creator_url: http://oceandata.sci.gsfc.nasa.gov\n",
       "    publisher_url: http://oceandata.sci.gsfc.nasa.gov\n",
       "    processing_level: L3 Mapped\n",
       "    cdm_data_type: grid\n",
       "    identifier_product_doi_authority: http://dx.doi.org\n",
       "    identifier_product_doi: 10.5067/AQUA/MODIS_OC.2014.0\n",
       "    keywords: Oceans > Ocean Temperature > Sea Surface Temperature\n",
       "    keywords_vocabulary: NASA Global Change Master Directory (GCMD) Science Keywords"
      ]
     },
     "execution_count": 4,
     "metadata": {},
     "output_type": "execute_result"
    }
   ],
   "source": [
    "data_sst"
   ]
  },
  {
   "cell_type": "code",
   "execution_count": 5,
   "metadata": {
    "collapsed": false
   },
   "outputs": [
    {
     "data": {
      "text/plain": [
       "<xarray.Dataset>\n",
       "Dimensions:        (eightbitcolor: 256, lat: 2160, lon: 4320, rgb: 3)\n",
       "Coordinates:\n",
       "  * lat            (lat) float64 89.96 89.88 89.79 89.71 89.62 89.54 89.46 ...\n",
       "  * lon            (lon) float64 -180.0 -179.9 -179.8 -179.7 -179.6 -179.5 ...\n",
       "  * eightbitcolor  (eightbitcolor) int64 0 1 2 3 4 5 6 7 8 9 10 11 12 13 14 ...\n",
       "  * rgb            (rgb) int64 0 1 2\n",
       "Data variables:\n",
       "    chlor_a        (lat, lon) float64 nan nan nan nan nan nan nan nan nan ...\n",
       "    palette        (rgb, eightbitcolor) uint8 147 0 108 144 0 111 141 0 114 ...\n",
       "Attributes:\n",
       "    product_name: A20021822002212.L3m_MO_CHL_chlor_a_9km.nc\n",
       "    instrument: MODIS\n",
       "    title: MODIS Level-3 Standard Mapped Image\n",
       "    project: Ocean Biology Processing Group (NASA/GSFC/OBPG)\n",
       "    platform: Aqua\n",
       "    temporal_range: 26-day\n",
       "    processing_version: 2014.0\n",
       "    date_created: 2015-06-26T11:24:50.000Z\n",
       "    history: smigen par=A20021822002212.L3m_MO_CHL_chlor_a_9km.nc.param\n",
       "    l2_flag_names: ATMFAIL,LAND,HILT,HISATZEN,STRAYLIGHT,CLDICE,COCCOLITH,LOWLW,CHLWARN,CHLFAIL,NAVWARN,MAXAERITER,ATMWARN,HISOLZEN,NAVFAIL,FILTER,HIGLINT\n",
       "    time_coverage_start: 2002-07-03T21:55:06.000Z\n",
       "    time_coverage_end: 2002-07-29T17:40:05.000Z\n",
       "    start_orbit_number: 885\n",
       "    end_orbit_number: 1261\n",
       "    map_projection: Equidistant Cylindrical\n",
       "    latitude_units: degrees_north\n",
       "    longitude_units: degrees_east\n",
       "    northernmost_latitude: 90.0\n",
       "    southernmost_latitude: -90.0\n",
       "    westernmost_longitude: -180.0\n",
       "    easternmost_longitude: 180.0\n",
       "    geospatial_lat_max: 90.0\n",
       "    geospatial_lat_min: -90.0\n",
       "    geospatial_lon_max: 180.0\n",
       "    geospatial_lon_min: -180.0\n",
       "    grid_mapping_name: latitude_longitude\n",
       "    latitude_step: 0.0833333\n",
       "    longitude_step: 0.0833333\n",
       "    sw_point_latitude: -89.9583\n",
       "    sw_point_longitude: -179.958\n",
       "    geospatial_lon_resolution: 9.2\n",
       "    geospatial_lat_resolution: 9.2\n",
       "    geospatial_lat_units: km\n",
       "    geospatial_lon_units: km\n",
       "    spatialResolution: 9.20 km\n",
       "    data_bins: 3505378\n",
       "    number_of_lines: 2160\n",
       "    number_of_columns: 4320\n",
       "    measure: Mean\n",
       "    data_minimum: 0.010856\n",
       "    data_maximum: 99.984\n",
       "    suggested_image_scaling_minimum: 0.01\n",
       "    suggested_image_scaling_maximum: 20.0\n",
       "    suggested_image_scaling_type: LOG\n",
       "    suggested_image_scaling_applied: No\n",
       "    _lastModified: 2015-06-26T11:24:50.000Z\n",
       "    Conventions: CF-1.6\n",
       "    institution: NASA Goddard Space Flight Center, Ocean Ecology Laboratory, Ocean Biology Processing Group\n",
       "    standard_name_vocabulary: NetCDF Climate and Forecast (CF) Metadata Convention\n",
       "    Metadata_Conventions: Unidata Dataset Discovery v1.0\n",
       "    naming_authority: gov.nasa.gsfc.sci.oceandata\n",
       "    id: A20021822002212.L3b_MO_CHL.nc/L3/A20021822002212.L3b_MO_CHL.nc\n",
       "    license: http://science.nasa.gov/earth-science/earth-science-data/data-information-policy/\n",
       "    creator_name: NASA/GSFC/OBPG\n",
       "    publisher_name: NASA/GSFC/OBPG\n",
       "    creator_email: data@oceancolor.gsfc.nasa.gov\n",
       "    publisher_email: data@oceancolor.gsfc.nasa.gov\n",
       "    creator_url: http://oceandata.sci.gsfc.nasa.gov\n",
       "    publisher_url: http://oceandata.sci.gsfc.nasa.gov\n",
       "    processing_level: L3 Mapped\n",
       "    cdm_data_type: grid\n",
       "    identifier_product_doi_authority: http://dx.doi.org\n",
       "    identifier_product_doi: 10.5067/AQUA/MODIS_OC.2014.0\n",
       "    keywords: Oceans > Ocean Chemistry > Chlorophyll; Oceans > Ocean Optics > Ocean Color\n",
       "    keywords_vocabulary: NASA Global Change Master Directory (GCMD) Science Keywords"
      ]
     },
     "execution_count": 5,
     "metadata": {},
     "output_type": "execute_result"
    }
   ],
   "source": [
    "data_chl"
   ]
  },
  {
   "cell_type": "code",
   "execution_count": 7,
   "metadata": {
    "collapsed": false
   },
   "outputs": [
    {
     "ename": "AttributeError",
     "evalue": "'Dataset' object has no attribute 'sst'",
     "output_type": "error",
     "traceback": [
      "\u001b[0;31m---------------------------------------------------------------------------\u001b[0m",
      "\u001b[0;31mAttributeError\u001b[0m                            Traceback (most recent call last)",
      "\u001b[0;32m<ipython-input-7-80c025aacb60>\u001b[0m in \u001b[0;36m<module>\u001b[0;34m()\u001b[0m\n\u001b[1;32m      1\u001b[0m \u001b[0msst\u001b[0m \u001b[0;34m=\u001b[0m \u001b[0mdata_sst\u001b[0m\u001b[0;34m.\u001b[0m\u001b[0msst\u001b[0m\u001b[0;34m\u001b[0m\u001b[0m\n\u001b[0;32m----> 2\u001b[0;31m \u001b[0mchl\u001b[0m \u001b[0;34m=\u001b[0m \u001b[0mdata_chl\u001b[0m\u001b[0;34m.\u001b[0m\u001b[0msst\u001b[0m\u001b[0;34m\u001b[0m\u001b[0m\n\u001b[0m",
      "\u001b[0;32m/Applications/anaconda/lib/python2.7/site-packages/xarray/core/common.pyc\u001b[0m in \u001b[0;36m__getattr__\u001b[0;34m(self, name)\u001b[0m\n\u001b[1;32m    135\u001b[0m                     \u001b[0;32mreturn\u001b[0m \u001b[0msource\u001b[0m\u001b[0;34m[\u001b[0m\u001b[0mname\u001b[0m\u001b[0;34m]\u001b[0m\u001b[0;34m\u001b[0m\u001b[0m\n\u001b[1;32m    136\u001b[0m         raise AttributeError(\"%r object has no attribute %r\" %\n\u001b[0;32m--> 137\u001b[0;31m                              (type(self).__name__, name))\n\u001b[0m\u001b[1;32m    138\u001b[0m \u001b[0;34m\u001b[0m\u001b[0m\n\u001b[1;32m    139\u001b[0m     \u001b[0;32mdef\u001b[0m \u001b[0m__setattr__\u001b[0m\u001b[0;34m(\u001b[0m\u001b[0mself\u001b[0m\u001b[0;34m,\u001b[0m \u001b[0mname\u001b[0m\u001b[0;34m,\u001b[0m \u001b[0mvalue\u001b[0m\u001b[0;34m)\u001b[0m\u001b[0;34m:\u001b[0m\u001b[0;34m\u001b[0m\u001b[0m\n",
      "\u001b[0;31mAttributeError\u001b[0m: 'Dataset' object has no attribute 'sst'"
     ]
    }
   ],
   "source": [
    "sst = data_sst.sst\n",
    "chl = data_chl.chlor_a"
   ]
  },
  {
   "cell_type": "code",
   "execution_count": null,
   "metadata": {
    "collapsed": false
   },
   "outputs": [],
   "source": [
    "plt.rcParams['figure.figsize'] = (20, 8)\n",
    "sst.sst.plot(vmin=-5, vmax=35, cmap='jet')\n",
    "plt.xlabel('$Longitude$')\n",
    "plt.ylabel('$Latitude$')"
   ]
  },
  {
   "cell_type": "code",
   "execution_count": null,
   "metadata": {
    "collapsed": false
   },
   "outputs": [],
   "source": [
    "chl"
   ]
  },
  {
   "cell_type": "code",
   "execution_count": null,
   "metadata": {
    "collapsed": false
   },
   "outputs": [],
   "source": [
    "chl.chlor_a"
   ]
  },
  {
   "cell_type": "code",
   "execution_count": null,
   "metadata": {
    "collapsed": false
   },
   "outputs": [],
   "source": [
    "plt.rcParams['figure.figsize'] = (20, 8)\n",
    "chl.chlor_a.plot(vmin=0, vmax=1, cmap='hsv')\n",
    "plt.xlabel('$Longitude$')\n",
    "plt.ylabel('$Latitude$')"
   ]
  },
  {
   "cell_type": "code",
   "execution_count": null,
   "metadata": {
    "collapsed": true
   },
   "outputs": [],
   "source": [
    "temperature = sst.sst"
   ]
  },
  {
   "cell_type": "code",
   "execution_count": null,
   "metadata": {
    "collapsed": false
   },
   "outputs": [],
   "source": [
    "temperature"
   ]
  },
  {
   "cell_type": "code",
   "execution_count": null,
   "metadata": {
    "collapsed": true
   },
   "outputs": [],
   "source": [
    "chlorophyll = chl.chlor_a"
   ]
  },
  {
   "cell_type": "code",
   "execution_count": null,
   "metadata": {
    "collapsed": false
   },
   "outputs": [],
   "source": [
    "chlorophyll"
   ]
  },
  {
   "cell_type": "code",
   "execution_count": null,
   "metadata": {
    "collapsed": true
   },
   "outputs": [],
   "source": [
    "lat = 2160\n",
    "lon = 4320"
   ]
  },
  {
   "cell_type": "code",
   "execution_count": null,
   "metadata": {
    "collapsed": true
   },
   "outputs": [],
   "source": [
    "no3 = np.zeros((lat, lon))"
   ]
  },
  {
   "cell_type": "code",
   "execution_count": null,
   "metadata": {
    "collapsed": true
   },
   "outputs": [],
   "source": [
    "for i in range(lat):\n",
    "    for j in range(lon):\n",
    "        if sst[]"
   ]
  }
 ],
 "metadata": {
  "anaconda-cloud": {},
  "kernelspec": {
   "display_name": "Python [Root]",
   "language": "python",
   "name": "Python [Root]"
  },
  "language_info": {
   "codemirror_mode": {
    "name": "ipython",
    "version": 2
   },
   "file_extension": ".py",
   "mimetype": "text/x-python",
   "name": "python",
   "nbconvert_exporter": "python",
   "pygments_lexer": "ipython2",
   "version": "2.7.12"
  }
 },
 "nbformat": 4,
 "nbformat_minor": 0
}
